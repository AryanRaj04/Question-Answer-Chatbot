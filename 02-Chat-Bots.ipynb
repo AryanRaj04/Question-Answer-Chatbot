{
 "cells": [
  {
   "cell_type": "markdown",
   "metadata": {},
   "source": [
    "___\n",
    "\n",
    "<a href='http://www.pieriandata.com'> <img src='../Pierian_Data_Logo.png' /></a>\n",
    "___\n",
    "# Question and Answer Chat Bots"
   ]
  },
  {
   "cell_type": "markdown",
   "metadata": {},
   "source": [
    "----\n",
    "\n",
    "------"
   ]
  },
  {
   "cell_type": "code",
   "execution_count": 1,
   "metadata": {},
   "outputs": [],
   "source": [
    "import pickle\n",
    "import numpy as np"
   ]
  },
  {
   "cell_type": "code",
   "execution_count": 2,
   "metadata": {},
   "outputs": [],
   "source": [
    "with open(\"train_qa.txt\", \"rb\") as fp:   # Unpickling\n",
    "    train_data =  pickle.load(fp)"
   ]
  },
  {
   "cell_type": "code",
   "execution_count": 3,
   "metadata": {},
   "outputs": [],
   "source": [
    "with open(\"test_qa.txt\", \"rb\") as fp:   # Unpickling\n",
    "    test_data =  pickle.load(fp)"
   ]
  },
  {
   "cell_type": "markdown",
   "metadata": {},
   "source": [
    "## Exploring the Format of the Data"
   ]
  },
  {
   "cell_type": "code",
   "execution_count": 4,
   "metadata": {},
   "outputs": [
    {
     "data": {
      "text/plain": [
       "list"
      ]
     },
     "execution_count": 4,
     "metadata": {},
     "output_type": "execute_result"
    }
   ],
   "source": [
    "type(test_data)"
   ]
  },
  {
   "cell_type": "code",
   "execution_count": 5,
   "metadata": {},
   "outputs": [
    {
     "data": {
      "text/plain": [
       "list"
      ]
     },
     "execution_count": 5,
     "metadata": {},
     "output_type": "execute_result"
    }
   ],
   "source": [
    "type(train_data)"
   ]
  },
  {
   "cell_type": "code",
   "execution_count": 6,
   "metadata": {},
   "outputs": [
    {
     "data": {
      "text/plain": [
       "1000"
      ]
     },
     "execution_count": 6,
     "metadata": {},
     "output_type": "execute_result"
    }
   ],
   "source": [
    "len(test_data)"
   ]
  },
  {
   "cell_type": "code",
   "execution_count": 7,
   "metadata": {},
   "outputs": [
    {
     "data": {
      "text/plain": [
       "10000"
      ]
     },
     "execution_count": 7,
     "metadata": {},
     "output_type": "execute_result"
    }
   ],
   "source": [
    "len(train_data)"
   ]
  },
  {
   "cell_type": "code",
   "execution_count": 8,
   "metadata": {},
   "outputs": [
    {
     "data": {
      "text/plain": [
       "(['Mary',\n",
       "  'moved',\n",
       "  'to',\n",
       "  'the',\n",
       "  'bathroom',\n",
       "  '.',\n",
       "  'Sandra',\n",
       "  'journeyed',\n",
       "  'to',\n",
       "  'the',\n",
       "  'bedroom',\n",
       "  '.'],\n",
       " ['Is', 'Sandra', 'in', 'the', 'hallway', '?'],\n",
       " 'no')"
      ]
     },
     "execution_count": 8,
     "metadata": {},
     "output_type": "execute_result"
    }
   ],
   "source": [
    "train_data[0]"
   ]
  },
  {
   "cell_type": "code",
   "execution_count": 9,
   "metadata": {},
   "outputs": [
    {
     "data": {
      "text/plain": [
       "'Mary moved to the bathroom . Sandra journeyed to the bedroom .'"
      ]
     },
     "execution_count": 9,
     "metadata": {},
     "output_type": "execute_result"
    }
   ],
   "source": [
    "' '.join(train_data[0][0])"
   ]
  },
  {
   "cell_type": "code",
   "execution_count": 10,
   "metadata": {},
   "outputs": [
    {
     "data": {
      "text/plain": [
       "'Is Sandra in the hallway ?'"
      ]
     },
     "execution_count": 10,
     "metadata": {},
     "output_type": "execute_result"
    }
   ],
   "source": [
    "' '.join(train_data[0][1])"
   ]
  },
  {
   "cell_type": "code",
   "execution_count": 11,
   "metadata": {},
   "outputs": [
    {
     "data": {
      "text/plain": [
       "'no'"
      ]
     },
     "execution_count": 11,
     "metadata": {},
     "output_type": "execute_result"
    }
   ],
   "source": [
    "train_data[0][2]"
   ]
  },
  {
   "cell_type": "markdown",
   "metadata": {},
   "source": [
    "-----\n",
    "\n",
    "## Setting up Vocabulary of All Words"
   ]
  },
  {
   "cell_type": "code",
   "execution_count": 12,
   "metadata": {},
   "outputs": [],
   "source": [
    "# Create a set that holds the vocab words\n",
    "vocab = set()"
   ]
  },
  {
   "cell_type": "code",
   "execution_count": 13,
   "metadata": {},
   "outputs": [],
   "source": [
    "all_data = test_data + train_data"
   ]
  },
  {
   "cell_type": "code",
   "execution_count": 14,
   "metadata": {},
   "outputs": [],
   "source": [
    "for story, question , answer in all_data:\n",
    "    vocab = vocab.union(set(story))\n",
    "    vocab = vocab.union(set(question))"
   ]
  },
  {
   "cell_type": "code",
   "execution_count": 15,
   "metadata": {},
   "outputs": [],
   "source": [
    "vocab.add('no')\n",
    "vocab.add('yes')"
   ]
  },
  {
   "cell_type": "code",
   "execution_count": 16,
   "metadata": {},
   "outputs": [
    {
     "data": {
      "text/plain": [
       "{'.',\n",
       " '?',\n",
       " 'Daniel',\n",
       " 'Is',\n",
       " 'John',\n",
       " 'Mary',\n",
       " 'Sandra',\n",
       " 'apple',\n",
       " 'back',\n",
       " 'bathroom',\n",
       " 'bedroom',\n",
       " 'discarded',\n",
       " 'down',\n",
       " 'dropped',\n",
       " 'football',\n",
       " 'garden',\n",
       " 'got',\n",
       " 'grabbed',\n",
       " 'hallway',\n",
       " 'in',\n",
       " 'journeyed',\n",
       " 'kitchen',\n",
       " 'left',\n",
       " 'milk',\n",
       " 'moved',\n",
       " 'no',\n",
       " 'office',\n",
       " 'picked',\n",
       " 'put',\n",
       " 'the',\n",
       " 'there',\n",
       " 'to',\n",
       " 'took',\n",
       " 'travelled',\n",
       " 'up',\n",
       " 'went',\n",
       " 'yes'}"
      ]
     },
     "execution_count": 16,
     "metadata": {},
     "output_type": "execute_result"
    }
   ],
   "source": [
    "vocab"
   ]
  },
  {
   "cell_type": "code",
   "execution_count": 17,
   "metadata": {},
   "outputs": [],
   "source": [
    "vocab_len = len(vocab) + 1 #we add an extra space to hold a 0 for Keras's pad_sequences"
   ]
  },
  {
   "cell_type": "code",
   "execution_count": 18,
   "metadata": {},
   "outputs": [],
   "source": [
    "max_story_len = max([len(data[0]) for data in all_data])"
   ]
  },
  {
   "cell_type": "code",
   "execution_count": 19,
   "metadata": {},
   "outputs": [
    {
     "data": {
      "text/plain": [
       "156"
      ]
     },
     "execution_count": 19,
     "metadata": {},
     "output_type": "execute_result"
    }
   ],
   "source": [
    "max_story_len"
   ]
  },
  {
   "cell_type": "code",
   "execution_count": 20,
   "metadata": {},
   "outputs": [],
   "source": [
    "max_question_len = max([len(data[1]) for data in all_data])"
   ]
  },
  {
   "cell_type": "code",
   "execution_count": 21,
   "metadata": {},
   "outputs": [
    {
     "data": {
      "text/plain": [
       "6"
      ]
     },
     "execution_count": 21,
     "metadata": {},
     "output_type": "execute_result"
    }
   ],
   "source": [
    "max_question_len"
   ]
  },
  {
   "cell_type": "markdown",
   "metadata": {},
   "source": [
    "## Vectorizing the Data"
   ]
  },
  {
   "cell_type": "code",
   "execution_count": 22,
   "metadata": {},
   "outputs": [
    {
     "data": {
      "text/plain": [
       "{'.',\n",
       " '?',\n",
       " 'Daniel',\n",
       " 'Is',\n",
       " 'John',\n",
       " 'Mary',\n",
       " 'Sandra',\n",
       " 'apple',\n",
       " 'back',\n",
       " 'bathroom',\n",
       " 'bedroom',\n",
       " 'discarded',\n",
       " 'down',\n",
       " 'dropped',\n",
       " 'football',\n",
       " 'garden',\n",
       " 'got',\n",
       " 'grabbed',\n",
       " 'hallway',\n",
       " 'in',\n",
       " 'journeyed',\n",
       " 'kitchen',\n",
       " 'left',\n",
       " 'milk',\n",
       " 'moved',\n",
       " 'no',\n",
       " 'office',\n",
       " 'picked',\n",
       " 'put',\n",
       " 'the',\n",
       " 'there',\n",
       " 'to',\n",
       " 'took',\n",
       " 'travelled',\n",
       " 'up',\n",
       " 'went',\n",
       " 'yes'}"
      ]
     },
     "execution_count": 22,
     "metadata": {},
     "output_type": "execute_result"
    }
   ],
   "source": [
    "vocab"
   ]
  },
  {
   "cell_type": "code",
   "execution_count": 23,
   "metadata": {},
   "outputs": [],
   "source": [
    "# Reserve 0 for pad_sequences\n",
    "vocab_size = len(vocab) + 1"
   ]
  },
  {
   "cell_type": "code",
   "execution_count": 24,
   "metadata": {},
   "outputs": [],
   "source": [
    "from keras.preprocessing.sequence import pad_sequences\n",
    "from keras.preprocessing.text import Tokenizer"
   ]
  },
  {
   "cell_type": "code",
   "execution_count": 25,
   "metadata": {},
   "outputs": [],
   "source": [
    "# integer encode sequences of words\n",
    "tokenizer = Tokenizer(filters=[])\n",
    "tokenizer.fit_on_texts(vocab)"
   ]
  },
  {
   "cell_type": "code",
   "execution_count": 26,
   "metadata": {},
   "outputs": [
    {
     "data": {
      "text/plain": [
       "{'journeyed': 1,\n",
       " 'daniel': 2,\n",
       " 'the': 3,\n",
       " 'went': 4,\n",
       " 'travelled': 5,\n",
       " 'bathroom': 6,\n",
       " 'down': 7,\n",
       " 'mary': 8,\n",
       " 'picked': 9,\n",
       " 'dropped': 10,\n",
       " 'there': 11,\n",
       " 'to': 12,\n",
       " 'apple': 13,\n",
       " 'is': 14,\n",
       " 'milk': 15,\n",
       " 'hallway': 16,\n",
       " 'back': 17,\n",
       " 'sandra': 18,\n",
       " 'john': 19,\n",
       " 'left': 20,\n",
       " '?': 21,\n",
       " 'kitchen': 22,\n",
       " 'discarded': 23,\n",
       " 'got': 24,\n",
       " '.': 25,\n",
       " 'up': 26,\n",
       " 'office': 27,\n",
       " 'moved': 28,\n",
       " 'football': 29,\n",
       " 'garden': 30,\n",
       " 'grabbed': 31,\n",
       " 'in': 32,\n",
       " 'no': 33,\n",
       " 'put': 34,\n",
       " 'took': 35,\n",
       " 'yes': 36,\n",
       " 'bedroom': 37}"
      ]
     },
     "execution_count": 26,
     "metadata": {},
     "output_type": "execute_result"
    }
   ],
   "source": [
    "tokenizer.word_index"
   ]
  },
  {
   "cell_type": "code",
   "execution_count": 27,
   "metadata": {},
   "outputs": [],
   "source": [
    "train_story_text = []\n",
    "train_question_text = []\n",
    "train_answers = []\n",
    "\n",
    "for story,question,answer in train_data:\n",
    "    train_story_text.append(story)\n",
    "    train_question_text.append(question)"
   ]
  },
  {
   "cell_type": "code",
   "execution_count": 28,
   "metadata": {},
   "outputs": [],
   "source": [
    "train_story_seq = tokenizer.texts_to_sequences(train_story_text)"
   ]
  },
  {
   "cell_type": "code",
   "execution_count": 29,
   "metadata": {},
   "outputs": [
    {
     "data": {
      "text/plain": [
       "10000"
      ]
     },
     "execution_count": 29,
     "metadata": {},
     "output_type": "execute_result"
    }
   ],
   "source": [
    "len(train_story_text)"
   ]
  },
  {
   "cell_type": "code",
   "execution_count": 30,
   "metadata": {},
   "outputs": [
    {
     "data": {
      "text/plain": [
       "10000"
      ]
     },
     "execution_count": 30,
     "metadata": {},
     "output_type": "execute_result"
    }
   ],
   "source": [
    "len(train_story_seq)"
   ]
  },
  {
   "cell_type": "code",
   "execution_count": 31,
   "metadata": {},
   "outputs": [],
   "source": [
    "# word_index = tokenizer.word_index"
   ]
  },
  {
   "cell_type": "markdown",
   "metadata": {},
   "source": [
    "### Functionalize Vectorization"
   ]
  },
  {
   "cell_type": "code",
   "execution_count": 32,
   "metadata": {},
   "outputs": [],
   "source": [
    "def vectorize_stories(data, word_index=tokenizer.word_index, max_story_len=max_story_len,max_question_len=max_question_len):\n",
    "    '''\n",
    "    INPUT: \n",
    "    \n",
    "    data: consisting of Stories,Queries,and Answers\n",
    "    word_index: word index dictionary from tokenizer\n",
    "    max_story_len: the length of the longest story (used for pad_sequences function)\n",
    "    max_question_len: length of the longest question (used for pad_sequences function)\n",
    "\n",
    "\n",
    "    OUTPUT:\n",
    "    \n",
    "    Vectorizes the stories,questions, and answers into padded sequences. We first loop for every story, query , and\n",
    "    answer in the data. Then we convert the raw words to an word index value. Then we append each set to their appropriate\n",
    "    output list. Then once we have converted the words to numbers, we pad the sequences so they are all of equal length.\n",
    "    \n",
    "    Returns this in the form of a tuple (X,Xq,Y) (padded based on max lengths)\n",
    "    '''\n",
    "    \n",
    "    \n",
    "    # X = STORIES\n",
    "    X = []\n",
    "    # Xq = QUERY/QUESTION\n",
    "    Xq = []\n",
    "    # Y = CORRECT ANSWER\n",
    "    Y = []\n",
    "    \n",
    "    \n",
    "    for story, query, answer in data:\n",
    "        \n",
    "        # Grab the word index for every word in story\n",
    "        x = [word_index[word.lower()] for word in story]\n",
    "        # Grab the word index for every word in query\n",
    "        xq = [word_index[word.lower()] for word in query]\n",
    "        \n",
    "        # Grab the Answers (either Yes/No so we don't need to use list comprehension here)\n",
    "        # Index 0 is reserved so we're going to use + 1\n",
    "        y = np.zeros(len(word_index) + 1)\n",
    "        \n",
    "        # Now that y is all zeros and we know its just Yes/No , we can use numpy logic to create this assignment\n",
    "        #\n",
    "        y[word_index[answer]] = 1\n",
    "        \n",
    "        # Append each set of story,query, and answer to their respective holding lists\n",
    "        X.append(x)\n",
    "        Xq.append(xq)\n",
    "        Y.append(y)\n",
    "        \n",
    "    # Finally, pad the sequences based on their max length so the RNN can be trained on uniformly long sequences.\n",
    "        \n",
    "    # RETURN TUPLE FOR UNPACKING\n",
    "    return (pad_sequences(X, maxlen=max_story_len),pad_sequences(Xq, maxlen=max_question_len), np.array(Y))"
   ]
  },
  {
   "cell_type": "code",
   "execution_count": 33,
   "metadata": {},
   "outputs": [],
   "source": [
    "inputs_train, queries_train, answers_train = vectorize_stories(train_data)"
   ]
  },
  {
   "cell_type": "code",
   "execution_count": 34,
   "metadata": {},
   "outputs": [],
   "source": [
    "inputs_test, queries_test, answers_test = vectorize_stories(test_data)"
   ]
  },
  {
   "cell_type": "code",
   "execution_count": 35,
   "metadata": {},
   "outputs": [
    {
     "data": {
      "text/plain": [
       "array([[ 0,  0,  0, ...,  3, 37, 25],\n",
       "       [ 0,  0,  0, ...,  3, 30, 25],\n",
       "       [ 0,  0,  0, ...,  3, 30, 25],\n",
       "       ...,\n",
       "       [ 0,  0,  0, ...,  3, 13, 25],\n",
       "       [ 0,  0,  0, ...,  3, 30, 25],\n",
       "       [ 0,  0,  0, ..., 13, 11, 25]])"
      ]
     },
     "execution_count": 35,
     "metadata": {},
     "output_type": "execute_result"
    }
   ],
   "source": [
    "inputs_test"
   ]
  },
  {
   "cell_type": "code",
   "execution_count": 36,
   "metadata": {},
   "outputs": [
    {
     "data": {
      "text/plain": [
       "array([[14, 19, 32,  3, 22, 21],\n",
       "       [14, 19, 32,  3, 22, 21],\n",
       "       [14, 19, 32,  3, 30, 21],\n",
       "       ...,\n",
       "       [14,  8, 32,  3, 37, 21],\n",
       "       [14, 18, 32,  3, 30, 21],\n",
       "       [14,  8, 32,  3, 30, 21]])"
      ]
     },
     "execution_count": 36,
     "metadata": {},
     "output_type": "execute_result"
    }
   ],
   "source": [
    "queries_test"
   ]
  },
  {
   "cell_type": "code",
   "execution_count": 37,
   "metadata": {},
   "outputs": [
    {
     "data": {
      "text/plain": [
       "array([0., 0., 0., 0., 0., 0., 0., 0., 0., 0., 0., 0., 0., 0., 0., 0., 0.,\n",
       "       0., 0., 0., 0., 0., 0., 0., 0., 0., 0., 0., 0., 0., 0., 0., 0., 1.,\n",
       "       0., 0., 0., 0.])"
      ]
     },
     "execution_count": 37,
     "metadata": {},
     "output_type": "execute_result"
    }
   ],
   "source": [
    "answers_test[0]"
   ]
  },
  {
   "cell_type": "code",
   "execution_count": 38,
   "metadata": {},
   "outputs": [
    {
     "data": {
      "text/plain": [
       "array([  0.,   0.,   0.,   0.,   0.,   0.,   0.,   0.,   0.,   0.,   0.,\n",
       "         0.,   0.,   0.,   0.,   0.,   0.,   0.,   0.,   0.,   0.,   0.,\n",
       "         0.,   0.,   0.,   0.,   0.,   0.,   0.,   0.,   0.,   0.,   0.,\n",
       "       503.,   0.,   0., 497.,   0.])"
      ]
     },
     "execution_count": 38,
     "metadata": {},
     "output_type": "execute_result"
    }
   ],
   "source": [
    "sum(answers_test)"
   ]
  },
  {
   "cell_type": "code",
   "execution_count": 39,
   "metadata": {},
   "outputs": [
    {
     "data": {
      "text/plain": [
       "36"
      ]
     },
     "execution_count": 39,
     "metadata": {},
     "output_type": "execute_result"
    }
   ],
   "source": [
    "tokenizer.word_index['yes']"
   ]
  },
  {
   "cell_type": "code",
   "execution_count": 40,
   "metadata": {},
   "outputs": [
    {
     "data": {
      "text/plain": [
       "33"
      ]
     },
     "execution_count": 40,
     "metadata": {},
     "output_type": "execute_result"
    }
   ],
   "source": [
    "tokenizer.word_index['no']"
   ]
  },
  {
   "cell_type": "markdown",
   "metadata": {},
   "source": [
    "## Creating the Model"
   ]
  },
  {
   "cell_type": "code",
   "execution_count": 41,
   "metadata": {},
   "outputs": [],
   "source": [
    "from keras.models import Sequential, Model\n",
    "from keras.layers.embeddings import Embedding\n",
    "from keras.layers import Input, Activation, Dense, Permute, Dropout\n",
    "from keras.layers import add, dot, concatenate\n",
    "from keras.layers import LSTM"
   ]
  },
  {
   "cell_type": "code",
   "execution_count": 42,
   "metadata": {},
   "outputs": [],
   "source": [
    "# Placeholders\n",
    "input_sequence = Input((max_story_len,))\n",
    "question = Input((max_question_len,))"
   ]
  },
  {
   "cell_type": "markdown",
   "metadata": {},
   "source": [
    "## Encoders\n",
    "\n",
    "### Input Encoder m"
   ]
  },
  {
   "cell_type": "code",
   "execution_count": 43,
   "metadata": {},
   "outputs": [],
   "source": [
    "# Input gets embedded to a sequence of vectors\n",
    "input_encoder_m = Sequential()\n",
    "input_encoder_m.add(Embedding(input_dim=vocab_size,output_dim=64))\n",
    "input_encoder_m.add(Dropout(0.3))\n",
    "\n",
    "# This encoder will output:\n",
    "# (samples, story_maxlen, embedding_dim)"
   ]
  },
  {
   "cell_type": "markdown",
   "metadata": {},
   "source": [
    "### Input Encoder c"
   ]
  },
  {
   "cell_type": "code",
   "execution_count": 44,
   "metadata": {},
   "outputs": [],
   "source": [
    "# embed the input into a sequence of vectors of size query_maxlen\n",
    "input_encoder_c = Sequential()\n",
    "input_encoder_c.add(Embedding(input_dim=vocab_size,output_dim=max_question_len))\n",
    "input_encoder_c.add(Dropout(0.3))\n",
    "# output: (samples, story_maxlen, query_maxlen)"
   ]
  },
  {
   "cell_type": "markdown",
   "metadata": {},
   "source": [
    "### Question Encoder"
   ]
  },
  {
   "cell_type": "code",
   "execution_count": 45,
   "metadata": {},
   "outputs": [],
   "source": [
    "# embed the question into a sequence of vectors\n",
    "question_encoder = Sequential()\n",
    "question_encoder.add(Embedding(input_dim=vocab_size,\n",
    "                               output_dim=64,\n",
    "                               input_length=max_question_len))\n",
    "question_encoder.add(Dropout(0.3))\n",
    "# output: (samples, query_maxlen, embedding_dim)"
   ]
  },
  {
   "cell_type": "markdown",
   "metadata": {},
   "source": [
    "### Encode the Sequences"
   ]
  },
  {
   "cell_type": "code",
   "execution_count": 46,
   "metadata": {},
   "outputs": [],
   "source": [
    "# encode input sequence and questions (which are indices)\n",
    "# to sequences of dense vectors\n",
    "input_encoded_m = input_encoder_m(input_sequence)\n",
    "input_encoded_c = input_encoder_c(input_sequence)\n",
    "question_encoded = question_encoder(question)"
   ]
  },
  {
   "cell_type": "markdown",
   "metadata": {},
   "source": [
    "##### Use dot product to compute the match between first input vector seq and the query"
   ]
  },
  {
   "cell_type": "code",
   "execution_count": 47,
   "metadata": {},
   "outputs": [],
   "source": [
    "# shape: `(samples, story_maxlen, query_maxlen)`\n",
    "match = dot([input_encoded_m, question_encoded], axes=(2,2))\n",
    "match = Activation('softmax')(match)"
   ]
  },
  {
   "cell_type": "markdown",
   "metadata": {},
   "source": [
    "#### Add this match matrix with the second input vector sequence"
   ]
  },
  {
   "cell_type": "code",
   "execution_count": 48,
   "metadata": {},
   "outputs": [],
   "source": [
    "# add the match matrix with the second input vector sequence\n",
    "response = add([match, input_encoded_c])  # (samples, story_maxlen, query_maxlen)\n",
    "response = Permute((2, 1))(response)  # (samples, query_maxlen, story_maxlen)"
   ]
  },
  {
   "cell_type": "markdown",
   "metadata": {},
   "source": [
    "#### Concatenate"
   ]
  },
  {
   "cell_type": "code",
   "execution_count": 49,
   "metadata": {},
   "outputs": [],
   "source": [
    "# concatenate the match matrix with the question vector sequence\n",
    "answer = concatenate([response, question_encoded])"
   ]
  },
  {
   "cell_type": "code",
   "execution_count": 50,
   "metadata": {},
   "outputs": [
    {
     "data": {
      "text/plain": [
       "<KerasTensor: shape=(None, 6, 220) dtype=float32 (created by layer 'concatenate')>"
      ]
     },
     "execution_count": 50,
     "metadata": {},
     "output_type": "execute_result"
    }
   ],
   "source": [
    "answer"
   ]
  },
  {
   "cell_type": "code",
   "execution_count": 51,
   "metadata": {},
   "outputs": [],
   "source": [
    "# Reduce with RNN (LSTM)\n",
    "answer = LSTM(32)(answer)  # (samples, 32)"
   ]
  },
  {
   "cell_type": "code",
   "execution_count": 52,
   "metadata": {},
   "outputs": [],
   "source": [
    "# Regularization with Dropout\n",
    "answer = Dropout(0.5)(answer)\n",
    "answer = Dense(vocab_size)(answer)  # (samples, vocab_size)"
   ]
  },
  {
   "cell_type": "code",
   "execution_count": 53,
   "metadata": {},
   "outputs": [],
   "source": [
    "# we output a probability distribution over the vocabulary\n",
    "answer = Activation('softmax')(answer)\n",
    "\n",
    "# build the final model\n",
    "model = Model([input_sequence, question], answer)\n",
    "model.compile(optimizer='rmsprop', loss='categorical_crossentropy',\n",
    "              metrics=['accuracy'])"
   ]
  },
  {
   "cell_type": "code",
   "execution_count": 54,
   "metadata": {},
   "outputs": [
    {
     "name": "stdout",
     "output_type": "stream",
     "text": [
      "Model: \"model\"\n",
      "__________________________________________________________________________________________________\n",
      "Layer (type)                    Output Shape         Param #     Connected to                     \n",
      "==================================================================================================\n",
      "input_1 (InputLayer)            [(None, 156)]        0                                            \n",
      "__________________________________________________________________________________________________\n",
      "input_2 (InputLayer)            [(None, 6)]          0                                            \n",
      "__________________________________________________________________________________________________\n",
      "sequential (Sequential)         (None, None, 64)     2432        input_1[0][0]                    \n",
      "__________________________________________________________________________________________________\n",
      "sequential_2 (Sequential)       (None, 6, 64)        2432        input_2[0][0]                    \n",
      "__________________________________________________________________________________________________\n",
      "dot (Dot)                       (None, 156, 6)       0           sequential[0][0]                 \n",
      "                                                                 sequential_2[0][0]               \n",
      "__________________________________________________________________________________________________\n",
      "activation (Activation)         (None, 156, 6)       0           dot[0][0]                        \n",
      "__________________________________________________________________________________________________\n",
      "sequential_1 (Sequential)       (None, None, 6)      228         input_1[0][0]                    \n",
      "__________________________________________________________________________________________________\n",
      "add (Add)                       (None, 156, 6)       0           activation[0][0]                 \n",
      "                                                                 sequential_1[0][0]               \n",
      "__________________________________________________________________________________________________\n",
      "permute (Permute)               (None, 6, 156)       0           add[0][0]                        \n",
      "__________________________________________________________________________________________________\n",
      "concatenate (Concatenate)       (None, 6, 220)       0           permute[0][0]                    \n",
      "                                                                 sequential_2[0][0]               \n",
      "__________________________________________________________________________________________________\n",
      "lstm (LSTM)                     (None, 32)           32384       concatenate[0][0]                \n",
      "__________________________________________________________________________________________________\n",
      "dropout_3 (Dropout)             (None, 32)           0           lstm[0][0]                       \n",
      "__________________________________________________________________________________________________\n",
      "dense (Dense)                   (None, 38)           1254        dropout_3[0][0]                  \n",
      "__________________________________________________________________________________________________\n",
      "activation_1 (Activation)       (None, 38)           0           dense[0][0]                      \n",
      "==================================================================================================\n",
      "Total params: 38,730\n",
      "Trainable params: 38,730\n",
      "Non-trainable params: 0\n",
      "__________________________________________________________________________________________________\n"
     ]
    }
   ],
   "source": [
    "model.summary()"
   ]
  },
  {
   "cell_type": "code",
   "execution_count": 55,
   "metadata": {},
   "outputs": [
    {
     "name": "stdout",
     "output_type": "stream",
     "text": [
      "Epoch 1/120\n",
      "313/313 [==============================] - 5s 10ms/step - loss: 0.8809 - accuracy: 0.4966 - val_loss: 0.7053 - val_accuracy: 0.4970\n",
      "Epoch 2/120\n",
      "313/313 [==============================] - 3s 10ms/step - loss: 0.7007 - accuracy: 0.5056 - val_loss: 0.6994 - val_accuracy: 0.4970\n",
      "Epoch 3/120\n",
      "313/313 [==============================] - 4s 14ms/step - loss: 0.6955 - accuracy: 0.5004 - val_loss: 0.6932 - val_accuracy: 0.5030\n",
      "Epoch 4/120\n",
      "313/313 [==============================] - 4s 14ms/step - loss: 0.6950 - accuracy: 0.4934 - val_loss: 0.6932 - val_accuracy: 0.5030\n",
      "Epoch 5/120\n",
      "313/313 [==============================] - 5s 15ms/step - loss: 0.6945 - accuracy: 0.5006 - val_loss: 0.6932 - val_accuracy: 0.4970\n",
      "Epoch 6/120\n",
      "313/313 [==============================] - 4s 14ms/step - loss: 0.6949 - accuracy: 0.4971 - val_loss: 0.6956 - val_accuracy: 0.4970\n",
      "Epoch 7/120\n",
      "313/313 [==============================] - 4s 14ms/step - loss: 0.6946 - accuracy: 0.4987 - val_loss: 0.6938 - val_accuracy: 0.5030\n",
      "Epoch 8/120\n",
      "313/313 [==============================] - 4s 14ms/step - loss: 0.6947 - accuracy: 0.4973 - val_loss: 0.6938 - val_accuracy: 0.4950\n",
      "Epoch 9/120\n",
      "313/313 [==============================] - 4s 14ms/step - loss: 0.6941 - accuracy: 0.5102 - val_loss: 0.6959 - val_accuracy: 0.4970\n",
      "Epoch 10/120\n",
      "313/313 [==============================] - 4s 14ms/step - loss: 0.6922 - accuracy: 0.5144 - val_loss: 0.6967 - val_accuracy: 0.4920\n",
      "Epoch 11/120\n",
      "313/313 [==============================] - 4s 14ms/step - loss: 0.6823 - accuracy: 0.5433 - val_loss: 0.6753 - val_accuracy: 0.5500\n",
      "Epoch 12/120\n",
      "313/313 [==============================] - 4s 14ms/step - loss: 0.6594 - accuracy: 0.6040 - val_loss: 0.6361 - val_accuracy: 0.6500\n",
      "Epoch 13/120\n",
      "313/313 [==============================] - 4s 14ms/step - loss: 0.6326 - accuracy: 0.6503 - val_loss: 0.6169 - val_accuracy: 0.6700\n",
      "Epoch 14/120\n",
      "313/313 [==============================] - 4s 14ms/step - loss: 0.6207 - accuracy: 0.6693 - val_loss: 0.5983 - val_accuracy: 0.7000\n",
      "Epoch 15/120\n",
      "313/313 [==============================] - 5s 14ms/step - loss: 0.6096 - accuracy: 0.6862 - val_loss: 0.5854 - val_accuracy: 0.7060\n",
      "Epoch 16/120\n",
      "313/313 [==============================] - 5s 14ms/step - loss: 0.5989 - accuracy: 0.6970 - val_loss: 0.5777 - val_accuracy: 0.6990\n",
      "Epoch 17/120\n",
      "313/313 [==============================] - 4s 14ms/step - loss: 0.5854 - accuracy: 0.7049 - val_loss: 0.5584 - val_accuracy: 0.7230\n",
      "Epoch 18/120\n",
      "313/313 [==============================] - 4s 14ms/step - loss: 0.5708 - accuracy: 0.7193 - val_loss: 0.5561 - val_accuracy: 0.7240\n",
      "Epoch 19/120\n",
      "313/313 [==============================] - 4s 14ms/step - loss: 0.5488 - accuracy: 0.7428 - val_loss: 0.5218 - val_accuracy: 0.7550\n",
      "Epoch 20/120\n",
      "313/313 [==============================] - 5s 14ms/step - loss: 0.5278 - accuracy: 0.7486 - val_loss: 0.4936 - val_accuracy: 0.7730\n",
      "Epoch 21/120\n",
      "313/313 [==============================] - 5s 14ms/step - loss: 0.5093 - accuracy: 0.7674 - val_loss: 0.4668 - val_accuracy: 0.7970\n",
      "Epoch 22/120\n",
      "313/313 [==============================] - 5s 14ms/step - loss: 0.4795 - accuracy: 0.7833 - val_loss: 0.4456 - val_accuracy: 0.8030\n",
      "Epoch 23/120\n",
      "313/313 [==============================] - 4s 14ms/step - loss: 0.4581 - accuracy: 0.7994 - val_loss: 0.4275 - val_accuracy: 0.8090\n",
      "Epoch 24/120\n",
      "313/313 [==============================] - 4s 14ms/step - loss: 0.4362 - accuracy: 0.8114 - val_loss: 0.4171 - val_accuracy: 0.8080\n",
      "Epoch 25/120\n",
      "313/313 [==============================] - 4s 14ms/step - loss: 0.4193 - accuracy: 0.8200 - val_loss: 0.4115 - val_accuracy: 0.8210\n",
      "Epoch 26/120\n",
      "313/313 [==============================] - 4s 14ms/step - loss: 0.4099 - accuracy: 0.8239 - val_loss: 0.3984 - val_accuracy: 0.8340\n",
      "Epoch 27/120\n",
      "313/313 [==============================] - 4s 14ms/step - loss: 0.3883 - accuracy: 0.8351 - val_loss: 0.3911 - val_accuracy: 0.8350\n",
      "Epoch 28/120\n",
      "313/313 [==============================] - 4s 14ms/step - loss: 0.3798 - accuracy: 0.8421 - val_loss: 0.3775 - val_accuracy: 0.8360\n",
      "Epoch 29/120\n",
      "313/313 [==============================] - 4s 14ms/step - loss: 0.3720 - accuracy: 0.8418 - val_loss: 0.3698 - val_accuracy: 0.8320\n",
      "Epoch 30/120\n",
      "313/313 [==============================] - 4s 14ms/step - loss: 0.3628 - accuracy: 0.8519 - val_loss: 0.3610 - val_accuracy: 0.8450\n",
      "Epoch 31/120\n",
      "313/313 [==============================] - 4s 14ms/step - loss: 0.3554 - accuracy: 0.8455 - val_loss: 0.3576 - val_accuracy: 0.8430\n",
      "Epoch 32/120\n",
      "313/313 [==============================] - 4s 14ms/step - loss: 0.3462 - accuracy: 0.8498 - val_loss: 0.3573 - val_accuracy: 0.8450\n",
      "Epoch 33/120\n",
      "313/313 [==============================] - 4s 14ms/step - loss: 0.3503 - accuracy: 0.8487 - val_loss: 0.3660 - val_accuracy: 0.8400\n",
      "Epoch 34/120\n",
      "313/313 [==============================] - 4s 14ms/step - loss: 0.3343 - accuracy: 0.8569 - val_loss: 0.3513 - val_accuracy: 0.8430\n",
      "Epoch 35/120\n",
      "313/313 [==============================] - 4s 14ms/step - loss: 0.3393 - accuracy: 0.8532 - val_loss: 0.3491 - val_accuracy: 0.8490\n",
      "Epoch 36/120\n",
      "313/313 [==============================] - 4s 14ms/step - loss: 0.3335 - accuracy: 0.8572 - val_loss: 0.3589 - val_accuracy: 0.8460\n",
      "Epoch 37/120\n",
      "313/313 [==============================] - 4s 14ms/step - loss: 0.3295 - accuracy: 0.8571 - val_loss: 0.3514 - val_accuracy: 0.8410\n",
      "Epoch 38/120\n",
      "313/313 [==============================] - 4s 14ms/step - loss: 0.3263 - accuracy: 0.8606 - val_loss: 0.3612 - val_accuracy: 0.8390\n",
      "Epoch 39/120\n",
      "313/313 [==============================] - 4s 14ms/step - loss: 0.3252 - accuracy: 0.8601 - val_loss: 0.3710 - val_accuracy: 0.8430\n",
      "Epoch 40/120\n",
      "313/313 [==============================] - 4s 14ms/step - loss: 0.3182 - accuracy: 0.8652 - val_loss: 0.3793 - val_accuracy: 0.8450\n",
      "Epoch 41/120\n",
      "313/313 [==============================] - 4s 14ms/step - loss: 0.3193 - accuracy: 0.8647 - val_loss: 0.3530 - val_accuracy: 0.8440\n",
      "Epoch 42/120\n",
      "313/313 [==============================] - 4s 14ms/step - loss: 0.3186 - accuracy: 0.8659 - val_loss: 0.3684 - val_accuracy: 0.8320\n",
      "Epoch 43/120\n",
      "313/313 [==============================] - 5s 16ms/step - loss: 0.3134 - accuracy: 0.8631 - val_loss: 0.3612 - val_accuracy: 0.8430\n",
      "Epoch 44/120\n",
      "313/313 [==============================] - 5s 15ms/step - loss: 0.3125 - accuracy: 0.8637 - val_loss: 0.3550 - val_accuracy: 0.8390\n",
      "Epoch 45/120\n",
      "313/313 [==============================] - 4s 14ms/step - loss: 0.3114 - accuracy: 0.8643 - val_loss: 0.3664 - val_accuracy: 0.8340\n",
      "Epoch 46/120\n",
      "313/313 [==============================] - 5s 16ms/step - loss: 0.3110 - accuracy: 0.8667 - val_loss: 0.3567 - val_accuracy: 0.8360\n",
      "Epoch 47/120\n",
      "313/313 [==============================] - 5s 15ms/step - loss: 0.3079 - accuracy: 0.8682 - val_loss: 0.3688 - val_accuracy: 0.8310\n",
      "Epoch 48/120\n",
      "313/313 [==============================] - 4s 14ms/step - loss: 0.3096 - accuracy: 0.8670 - val_loss: 0.3756 - val_accuracy: 0.8430\n",
      "Epoch 49/120\n",
      "313/313 [==============================] - 5s 15ms/step - loss: 0.3041 - accuracy: 0.8681 - val_loss: 0.3564 - val_accuracy: 0.8390\n",
      "Epoch 50/120\n",
      "313/313 [==============================] - 5s 15ms/step - loss: 0.3066 - accuracy: 0.8669 - val_loss: 0.3664 - val_accuracy: 0.8390\n",
      "Epoch 51/120\n",
      "313/313 [==============================] - 5s 15ms/step - loss: 0.2951 - accuracy: 0.8727 - val_loss: 0.4199 - val_accuracy: 0.8350\n",
      "Epoch 52/120\n",
      "313/313 [==============================] - 5s 15ms/step - loss: 0.2975 - accuracy: 0.8731 - val_loss: 0.3581 - val_accuracy: 0.8350\n",
      "Epoch 53/120\n",
      "313/313 [==============================] - 4s 14ms/step - loss: 0.3009 - accuracy: 0.8668 - val_loss: 0.3656 - val_accuracy: 0.8340\n",
      "Epoch 54/120\n",
      "313/313 [==============================] - 4s 14ms/step - loss: 0.3011 - accuracy: 0.8689 - val_loss: 0.3639 - val_accuracy: 0.8410\n",
      "Epoch 55/120\n",
      "313/313 [==============================] - 4s 14ms/step - loss: 0.2981 - accuracy: 0.8717 - val_loss: 0.3825 - val_accuracy: 0.8350\n",
      "Epoch 56/120\n",
      "313/313 [==============================] - 4s 14ms/step - loss: 0.2900 - accuracy: 0.8758 - val_loss: 0.3749 - val_accuracy: 0.8300\n",
      "Epoch 57/120\n"
     ]
    },
    {
     "name": "stdout",
     "output_type": "stream",
     "text": [
      "313/313 [==============================] - 4s 14ms/step - loss: 0.2936 - accuracy: 0.8721 - val_loss: 0.3765 - val_accuracy: 0.8360\n",
      "Epoch 58/120\n",
      "313/313 [==============================] - 4s 14ms/step - loss: 0.2944 - accuracy: 0.8724 - val_loss: 0.3761 - val_accuracy: 0.8420\n",
      "Epoch 59/120\n",
      "313/313 [==============================] - 4s 14ms/step - loss: 0.2909 - accuracy: 0.8744 - val_loss: 0.3958 - val_accuracy: 0.8450\n",
      "Epoch 60/120\n",
      "313/313 [==============================] - 4s 14ms/step - loss: 0.2889 - accuracy: 0.8753 - val_loss: 0.3861 - val_accuracy: 0.8330\n",
      "Epoch 61/120\n",
      "313/313 [==============================] - 4s 14ms/step - loss: 0.2920 - accuracy: 0.8741 - val_loss: 0.3571 - val_accuracy: 0.8380\n",
      "Epoch 62/120\n",
      "313/313 [==============================] - 4s 14ms/step - loss: 0.2805 - accuracy: 0.8775 - val_loss: 0.3654 - val_accuracy: 0.8340\n",
      "Epoch 63/120\n",
      "313/313 [==============================] - 4s 14ms/step - loss: 0.2835 - accuracy: 0.8752 - val_loss: 0.3667 - val_accuracy: 0.8360\n",
      "Epoch 64/120\n",
      "313/313 [==============================] - 4s 14ms/step - loss: 0.2867 - accuracy: 0.8741 - val_loss: 0.3736 - val_accuracy: 0.8380\n",
      "Epoch 65/120\n",
      "313/313 [==============================] - 5s 15ms/step - loss: 0.2807 - accuracy: 0.8775 - val_loss: 0.3671 - val_accuracy: 0.8380\n",
      "Epoch 66/120\n",
      "313/313 [==============================] - 4s 14ms/step - loss: 0.2804 - accuracy: 0.8805 - val_loss: 0.3899 - val_accuracy: 0.8360\n",
      "Epoch 67/120\n",
      "313/313 [==============================] - 4s 14ms/step - loss: 0.2817 - accuracy: 0.8782 - val_loss: 0.3612 - val_accuracy: 0.8380\n",
      "Epoch 68/120\n",
      "313/313 [==============================] - 4s 14ms/step - loss: 0.2794 - accuracy: 0.8752 - val_loss: 0.3798 - val_accuracy: 0.8340\n",
      "Epoch 69/120\n",
      "313/313 [==============================] - 4s 14ms/step - loss: 0.2773 - accuracy: 0.8763 - val_loss: 0.3856 - val_accuracy: 0.8270\n",
      "Epoch 70/120\n",
      "313/313 [==============================] - 4s 14ms/step - loss: 0.2760 - accuracy: 0.8790 - val_loss: 0.3781 - val_accuracy: 0.8340\n",
      "Epoch 71/120\n",
      "313/313 [==============================] - 4s 14ms/step - loss: 0.2747 - accuracy: 0.8818 - val_loss: 0.4017 - val_accuracy: 0.8340\n",
      "Epoch 72/120\n",
      "313/313 [==============================] - 4s 14ms/step - loss: 0.2754 - accuracy: 0.8803 - val_loss: 0.3758 - val_accuracy: 0.8320\n",
      "Epoch 73/120\n",
      "313/313 [==============================] - 5s 15ms/step - loss: 0.2781 - accuracy: 0.8813 - val_loss: 0.3808 - val_accuracy: 0.8240\n",
      "Epoch 74/120\n",
      "313/313 [==============================] - 4s 14ms/step - loss: 0.2746 - accuracy: 0.8802 - val_loss: 0.3915 - val_accuracy: 0.8350\n",
      "Epoch 75/120\n",
      "313/313 [==============================] - 4s 14ms/step - loss: 0.2754 - accuracy: 0.8793 - val_loss: 0.3757 - val_accuracy: 0.8350\n",
      "Epoch 76/120\n",
      "313/313 [==============================] - 4s 14ms/step - loss: 0.2766 - accuracy: 0.8806 - val_loss: 0.4116 - val_accuracy: 0.8320\n",
      "Epoch 77/120\n",
      "313/313 [==============================] - 4s 14ms/step - loss: 0.2734 - accuracy: 0.8818 - val_loss: 0.4558 - val_accuracy: 0.8330\n",
      "Epoch 78/120\n",
      "313/313 [==============================] - 4s 14ms/step - loss: 0.2708 - accuracy: 0.8836 - val_loss: 0.4119 - val_accuracy: 0.8230\n",
      "Epoch 79/120\n",
      "313/313 [==============================] - 4s 14ms/step - loss: 0.2670 - accuracy: 0.8852 - val_loss: 0.4061 - val_accuracy: 0.8350\n",
      "Epoch 80/120\n",
      "313/313 [==============================] - 5s 15ms/step - loss: 0.2661 - accuracy: 0.8838 - val_loss: 0.4391 - val_accuracy: 0.8340\n",
      "Epoch 81/120\n",
      "313/313 [==============================] - 4s 14ms/step - loss: 0.2676 - accuracy: 0.8829 - val_loss: 0.4248 - val_accuracy: 0.8410\n",
      "Epoch 82/120\n",
      "313/313 [==============================] - 4s 14ms/step - loss: 0.2634 - accuracy: 0.8896 - val_loss: 0.4190 - val_accuracy: 0.8270\n",
      "Epoch 83/120\n",
      "313/313 [==============================] - 4s 14ms/step - loss: 0.2649 - accuracy: 0.8854 - val_loss: 0.3993 - val_accuracy: 0.8320\n",
      "Epoch 84/120\n",
      "313/313 [==============================] - 4s 14ms/step - loss: 0.2626 - accuracy: 0.8879 - val_loss: 0.4262 - val_accuracy: 0.8210\n",
      "Epoch 85/120\n",
      "313/313 [==============================] - 4s 14ms/step - loss: 0.2662 - accuracy: 0.8852 - val_loss: 0.4192 - val_accuracy: 0.8320\n",
      "Epoch 86/120\n",
      "313/313 [==============================] - 4s 14ms/step - loss: 0.2511 - accuracy: 0.8919 - val_loss: 0.4300 - val_accuracy: 0.8370\n",
      "Epoch 87/120\n",
      "313/313 [==============================] - 5s 16ms/step - loss: 0.2620 - accuracy: 0.8877 - val_loss: 0.4157 - val_accuracy: 0.8300\n",
      "Epoch 88/120\n",
      "313/313 [==============================] - 5s 15ms/step - loss: 0.2568 - accuracy: 0.8880 - val_loss: 0.4169 - val_accuracy: 0.8320\n",
      "Epoch 89/120\n",
      "313/313 [==============================] - 4s 14ms/step - loss: 0.2567 - accuracy: 0.8901 - val_loss: 0.4285 - val_accuracy: 0.8230\n",
      "Epoch 90/120\n",
      "313/313 [==============================] - 4s 14ms/step - loss: 0.2533 - accuracy: 0.8900 - val_loss: 0.4502 - val_accuracy: 0.8360\n",
      "Epoch 91/120\n",
      "313/313 [==============================] - 4s 14ms/step - loss: 0.2564 - accuracy: 0.8915 - val_loss: 0.4135 - val_accuracy: 0.8340\n",
      "Epoch 92/120\n",
      "313/313 [==============================] - 4s 14ms/step - loss: 0.2525 - accuracy: 0.8906 - val_loss: 0.4818 - val_accuracy: 0.8300\n",
      "Epoch 93/120\n",
      "313/313 [==============================] - 4s 14ms/step - loss: 0.2554 - accuracy: 0.8908 - val_loss: 0.4748 - val_accuracy: 0.8320\n",
      "Epoch 94/120\n",
      "313/313 [==============================] - 4s 14ms/step - loss: 0.2540 - accuracy: 0.8899 - val_loss: 0.4633 - val_accuracy: 0.8380\n",
      "Epoch 95/120\n",
      "313/313 [==============================] - 4s 14ms/step - loss: 0.2451 - accuracy: 0.8921 - val_loss: 0.4829 - val_accuracy: 0.8310\n",
      "Epoch 96/120\n",
      "313/313 [==============================] - 4s 14ms/step - loss: 0.2415 - accuracy: 0.8955 - val_loss: 0.4764 - val_accuracy: 0.8370\n",
      "Epoch 97/120\n",
      "313/313 [==============================] - 4s 14ms/step - loss: 0.2478 - accuracy: 0.8923 - val_loss: 0.4856 - val_accuracy: 0.8290\n",
      "Epoch 98/120\n",
      "313/313 [==============================] - 4s 14ms/step - loss: 0.2446 - accuracy: 0.8967 - val_loss: 0.4867 - val_accuracy: 0.8290\n",
      "Epoch 99/120\n",
      "313/313 [==============================] - 5s 15ms/step - loss: 0.2492 - accuracy: 0.8933 - val_loss: 0.4285 - val_accuracy: 0.8270\n",
      "Epoch 100/120\n",
      "313/313 [==============================] - 5s 15ms/step - loss: 0.2375 - accuracy: 0.8972 - val_loss: 0.4806 - val_accuracy: 0.8350\n",
      "Epoch 101/120\n",
      "313/313 [==============================] - 4s 14ms/step - loss: 0.2432 - accuracy: 0.8992 - val_loss: 0.4503 - val_accuracy: 0.8240\n",
      "Epoch 102/120\n",
      "313/313 [==============================] - 4s 14ms/step - loss: 0.2449 - accuracy: 0.8953 - val_loss: 0.4281 - val_accuracy: 0.8310\n",
      "Epoch 103/120\n",
      "313/313 [==============================] - 4s 14ms/step - loss: 0.2466 - accuracy: 0.8938 - val_loss: 0.4949 - val_accuracy: 0.8330\n",
      "Epoch 104/120\n",
      "313/313 [==============================] - 4s 14ms/step - loss: 0.2364 - accuracy: 0.8984 - val_loss: 0.4856 - val_accuracy: 0.8320\n",
      "Epoch 105/120\n",
      "313/313 [==============================] - 4s 14ms/step - loss: 0.2393 - accuracy: 0.8997 - val_loss: 0.4830 - val_accuracy: 0.8410\n",
      "Epoch 106/120\n",
      "313/313 [==============================] - 4s 14ms/step - loss: 0.2372 - accuracy: 0.8979 - val_loss: 0.4575 - val_accuracy: 0.8360\n",
      "Epoch 107/120\n",
      "313/313 [==============================] - 4s 14ms/step - loss: 0.2335 - accuracy: 0.9016 - val_loss: 0.4813 - val_accuracy: 0.8290\n",
      "Epoch 108/120\n",
      "313/313 [==============================] - 4s 14ms/step - loss: 0.2307 - accuracy: 0.9007 - val_loss: 0.4850 - val_accuracy: 0.8300\n",
      "Epoch 109/120\n",
      "313/313 [==============================] - 4s 14ms/step - loss: 0.2365 - accuracy: 0.9029 - val_loss: 0.4596 - val_accuracy: 0.8260\n",
      "Epoch 110/120\n",
      "313/313 [==============================] - 4s 14ms/step - loss: 0.2297 - accuracy: 0.9020 - val_loss: 0.5183 - val_accuracy: 0.8330\n",
      "Epoch 111/120\n",
      "313/313 [==============================] - 4s 14ms/step - loss: 0.2281 - accuracy: 0.9015 - val_loss: 0.5236 - val_accuracy: 0.8360\n",
      "Epoch 112/120\n",
      "313/313 [==============================] - 4s 14ms/step - loss: 0.2312 - accuracy: 0.9023 - val_loss: 0.5065 - val_accuracy: 0.8280\n",
      "Epoch 113/120\n"
     ]
    },
    {
     "name": "stdout",
     "output_type": "stream",
     "text": [
      "313/313 [==============================] - 4s 14ms/step - loss: 0.2295 - accuracy: 0.9048 - val_loss: 0.4992 - val_accuracy: 0.8280\n",
      "Epoch 114/120\n",
      "313/313 [==============================] - 5s 15ms/step - loss: 0.2292 - accuracy: 0.9019 - val_loss: 0.4564 - val_accuracy: 0.8350\n",
      "Epoch 115/120\n",
      "313/313 [==============================] - 4s 14ms/step - loss: 0.2281 - accuracy: 0.9035 - val_loss: 0.4762 - val_accuracy: 0.8300\n",
      "Epoch 116/120\n",
      "313/313 [==============================] - 4s 14ms/step - loss: 0.2278 - accuracy: 0.9027 - val_loss: 0.5174 - val_accuracy: 0.8230\n",
      "Epoch 117/120\n",
      "313/313 [==============================] - 4s 14ms/step - loss: 0.2189 - accuracy: 0.9048 - val_loss: 0.5160 - val_accuracy: 0.8330\n",
      "Epoch 118/120\n",
      "313/313 [==============================] - 4s 14ms/step - loss: 0.2267 - accuracy: 0.9065 - val_loss: 0.5351 - val_accuracy: 0.8340\n",
      "Epoch 119/120\n",
      "313/313 [==============================] - 4s 14ms/step - loss: 0.2157 - accuracy: 0.9076 - val_loss: 0.5112 - val_accuracy: 0.8390\n",
      "Epoch 120/120\n",
      "313/313 [==============================] - 4s 14ms/step - loss: 0.2184 - accuracy: 0.9046 - val_loss: 0.4676 - val_accuracy: 0.8370\n"
     ]
    }
   ],
   "source": [
    "# train\n",
    "history = model.fit([inputs_train, queries_train], answers_train,batch_size=32,epochs=120,validation_data=([inputs_test, queries_test], answers_test))"
   ]
  },
  {
   "cell_type": "markdown",
   "metadata": {},
   "source": [
    "### Saving the Model"
   ]
  },
  {
   "cell_type": "code",
   "execution_count": 57,
   "metadata": {},
   "outputs": [],
   "source": [
    "filename = 'chatbot_120_epochs.h5'\n",
    "model.save(filename)"
   ]
  },
  {
   "cell_type": "markdown",
   "metadata": {},
   "source": [
    "## Evaluating the Model\n"
   ]
  },
  {
   "cell_type": "markdown",
   "metadata": {},
   "source": [
    "### Evaluating on Given Test Set"
   ]
  },
  {
   "cell_type": "code",
   "execution_count": 58,
   "metadata": {},
   "outputs": [],
   "source": [
    "model.load_weights(filename)\n",
    "pred_results = model.predict(([inputs_test, queries_test]))"
   ]
  },
  {
   "cell_type": "code",
   "execution_count": 59,
   "metadata": {},
   "outputs": [
    {
     "data": {
      "text/plain": [
       "['Mary',\n",
       " 'got',\n",
       " 'the',\n",
       " 'milk',\n",
       " 'there',\n",
       " '.',\n",
       " 'John',\n",
       " 'moved',\n",
       " 'to',\n",
       " 'the',\n",
       " 'bedroom',\n",
       " '.']"
      ]
     },
     "execution_count": 59,
     "metadata": {},
     "output_type": "execute_result"
    }
   ],
   "source": [
    "test_data[0][0]"
   ]
  },
  {
   "cell_type": "code",
   "execution_count": 60,
   "metadata": {},
   "outputs": [
    {
     "name": "stdout",
     "output_type": "stream",
     "text": [
      "Mary got the milk there . John moved to the bedroom .\n"
     ]
    }
   ],
   "source": [
    "story =' '.join(word for word in test_data[0][0])\n",
    "print(story)"
   ]
  },
  {
   "cell_type": "code",
   "execution_count": 61,
   "metadata": {},
   "outputs": [
    {
     "name": "stdout",
     "output_type": "stream",
     "text": [
      "Is John in the kitchen ?\n"
     ]
    }
   ],
   "source": [
    "query = ' '.join(word for word in test_data[0][1])\n",
    "print(query)"
   ]
  },
  {
   "cell_type": "code",
   "execution_count": 62,
   "metadata": {},
   "outputs": [
    {
     "name": "stdout",
     "output_type": "stream",
     "text": [
      "True Test Answer from Data is: no\n"
     ]
    }
   ],
   "source": [
    "print(\"True Test Answer from Data is:\",test_data[0][2])"
   ]
  },
  {
   "cell_type": "code",
   "execution_count": 63,
   "metadata": {},
   "outputs": [
    {
     "name": "stdout",
     "output_type": "stream",
     "text": [
      "Predicted answer is:  no\n",
      "Probability of certainty was:  0.9957195\n"
     ]
    }
   ],
   "source": [
    "#Generate prediction from model\n",
    "val_max = np.argmax(pred_results[0])\n",
    "\n",
    "for key, val in tokenizer.word_index.items():\n",
    "    if val == val_max:\n",
    "        k = key\n",
    "\n",
    "print(\"Predicted answer is: \", k)\n",
    "print(\"Probability of certainty was: \", pred_results[0][val_max])"
   ]
  },
  {
   "cell_type": "markdown",
   "metadata": {},
   "source": [
    "## Writing Your Own Stories and Questions\n",
    "\n"
   ]
  },
  {
   "cell_type": "code",
   "execution_count": 64,
   "metadata": {},
   "outputs": [
    {
     "data": {
      "text/plain": [
       "{'.',\n",
       " '?',\n",
       " 'Daniel',\n",
       " 'Is',\n",
       " 'John',\n",
       " 'Mary',\n",
       " 'Sandra',\n",
       " 'apple',\n",
       " 'back',\n",
       " 'bathroom',\n",
       " 'bedroom',\n",
       " 'discarded',\n",
       " 'down',\n",
       " 'dropped',\n",
       " 'football',\n",
       " 'garden',\n",
       " 'got',\n",
       " 'grabbed',\n",
       " 'hallway',\n",
       " 'in',\n",
       " 'journeyed',\n",
       " 'kitchen',\n",
       " 'left',\n",
       " 'milk',\n",
       " 'moved',\n",
       " 'no',\n",
       " 'office',\n",
       " 'picked',\n",
       " 'put',\n",
       " 'the',\n",
       " 'there',\n",
       " 'to',\n",
       " 'took',\n",
       " 'travelled',\n",
       " 'up',\n",
       " 'went',\n",
       " 'yes'}"
      ]
     },
     "execution_count": 64,
     "metadata": {},
     "output_type": "execute_result"
    }
   ],
   "source": [
    "vocab"
   ]
  },
  {
   "cell_type": "code",
   "execution_count": 65,
   "metadata": {},
   "outputs": [
    {
     "data": {
      "text/plain": [
       "['John',\n",
       " 'left',\n",
       " 'the',\n",
       " 'kitchen',\n",
       " '.',\n",
       " 'Sandra',\n",
       " 'dropped',\n",
       " 'the',\n",
       " 'football',\n",
       " 'in',\n",
       " 'the',\n",
       " 'garden',\n",
       " '.']"
      ]
     },
     "execution_count": 65,
     "metadata": {},
     "output_type": "execute_result"
    }
   ],
   "source": [
    "# Note the whitespace of the periods\n",
    "my_story = \"John left the kitchen . Sandra dropped the football in the garden .\"\n",
    "my_story.split()"
   ]
  },
  {
   "cell_type": "code",
   "execution_count": 66,
   "metadata": {},
   "outputs": [],
   "source": [
    "my_question = \"Is the football in the garden ?\""
   ]
  },
  {
   "cell_type": "code",
   "execution_count": 67,
   "metadata": {},
   "outputs": [
    {
     "data": {
      "text/plain": [
       "['Is', 'the', 'football', 'in', 'the', 'garden', '?']"
      ]
     },
     "execution_count": 67,
     "metadata": {},
     "output_type": "execute_result"
    }
   ],
   "source": [
    "my_question.split()"
   ]
  },
  {
   "cell_type": "code",
   "execution_count": 68,
   "metadata": {},
   "outputs": [],
   "source": [
    "mydata = [(my_story.split(),my_question.split(),'yes')]"
   ]
  },
  {
   "cell_type": "code",
   "execution_count": 69,
   "metadata": {},
   "outputs": [],
   "source": [
    "my_story,my_ques,my_ans = vectorize_stories(mydata)"
   ]
  },
  {
   "cell_type": "code",
   "execution_count": 70,
   "metadata": {},
   "outputs": [],
   "source": [
    "pred_results = model.predict(([ my_story, my_ques]))"
   ]
  },
  {
   "cell_type": "code",
   "execution_count": 71,
   "metadata": {},
   "outputs": [
    {
     "name": "stdout",
     "output_type": "stream",
     "text": [
      "Predicted answer is:  yes\n",
      "Probability of certainty was:  0.99955815\n"
     ]
    }
   ],
   "source": [
    "#Generate prediction from model\n",
    "val_max = np.argmax(pred_results[0])\n",
    "\n",
    "for key, val in tokenizer.word_index.items():\n",
    "    if val == val_max:\n",
    "        k = key\n",
    "\n",
    "print(\"Predicted answer is: \", k)\n",
    "print(\"Probability of certainty was: \", pred_results[0][val_max])"
   ]
  },
  {
   "cell_type": "code",
   "execution_count": null,
   "metadata": {},
   "outputs": [],
   "source": []
  }
 ],
 "metadata": {
  "kernelspec": {
   "display_name": "Python 3",
   "language": "python",
   "name": "python3"
  },
  "language_info": {
   "codemirror_mode": {
    "name": "ipython",
    "version": 3
   },
   "file_extension": ".py",
   "mimetype": "text/x-python",
   "name": "python",
   "nbconvert_exporter": "python",
   "pygments_lexer": "ipython3",
   "version": "3.8.8"
  }
 },
 "nbformat": 4,
 "nbformat_minor": 2
}
